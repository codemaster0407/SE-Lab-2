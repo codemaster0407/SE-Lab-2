{
 "cells": [
  {
   "cell_type": "code",
   "execution_count": 1,
   "id": "4cf48d0f",
   "metadata": {},
   "outputs": [],
   "source": [
    "import requests\n",
    "import json"
   ]
  },
  {
   "cell_type": "code",
   "execution_count": 2,
   "id": "f292a256",
   "metadata": {},
   "outputs": [],
   "source": [
    "app_id = \"011e5f54\"\n",
    "app_key = \"7a4dead9ed66fe945e1c9bd566340542\""
   ]
  },
  {
   "cell_type": "code",
   "execution_count": 3,
   "id": "3318b590",
   "metadata": {},
   "outputs": [],
   "source": [
    "api_endpoint = \"https://developer.edamam.com/api/nutrition-details\"\n",
    "url = api_endpoint + \"?app_id=\"+app_id+\"&app_key=\"+app_key"
   ]
  },
  {
   "cell_type": "markdown",
   "id": "993905b4",
   "metadata": {},
   "source": [
    "POST REQUEST"
   ]
  },
  {
   "cell_type": "code",
   "execution_count": 23,
   "id": "06021a03",
   "metadata": {},
   "outputs": [],
   "source": [
    "headers = {\n",
    "    'Content-Type':'application/json'\n",
    "}"
   ]
  },
  {
   "cell_type": "code",
   "execution_count": 24,
   "id": "643d8267",
   "metadata": {},
   "outputs": [],
   "source": [
    "recipe = {\n",
    "    'title':'Cappuccino',\n",
    "    'ingr' : ['18g ground espresso','150ml milk']\n",
    "}"
   ]
  },
  {
   "cell_type": "code",
   "execution_count": 25,
   "id": "de092a22",
   "metadata": {},
   "outputs": [],
   "source": [
    "r = requests.post(url,headers= headers, json = recipe)"
   ]
  },
  {
   "cell_type": "code",
   "execution_count": 26,
   "id": "9523251e",
   "metadata": {},
   "outputs": [
    {
     "data": {
      "text/plain": [
       "404"
      ]
     },
     "execution_count": 26,
     "metadata": {},
     "output_type": "execute_result"
    }
   ],
   "source": [
    "r.status_code\n"
   ]
  },
  {
   "cell_type": "code",
   "execution_count": 18,
   "id": "d3aa745f",
   "metadata": {},
   "outputs": [
    {
     "data": {
      "text/plain": [
       "b'<!DOCTYPE html>\\n<html lang=\"en\">\\n  <head>\\n    <meta charset=\"utf-8\" />\\n    <title>Not Found</title>\\n    <link href=\"/assets/error.css\" media=\"screen\" rel=\"stylesheet\" type=\"text/css\" />\\n  </head>\\n\\n  <body>\\n    <div id=\"wrapper\">\\n      <div id=\"content\">\\n        <h1 class=\\'logo-3scale logo-3scale--svg logo-3scale--boxed\\' id=\"logo\">\\n          3scale\\n        </h1>\\n\\n        <h1>Not Found</h1>\\n        <p>Sorry. We can\\'t find what you\\'re looking for.</p>\\n      </div>\\n\\n      <div id=\"footer\">\\n        <ul>\\n          <li class=\"powered-by-3scale last\">\\n            <a href=\"http://www.3scale.net\" target=\"_blank\">\\n              Powered by <span class=\"logo-3scale logo-3scale--svg logo-3scale--powered\">3scale</span>\\n            </a>\\n          </li>\\n        </ul>\\n      </div>\\n    </div>\\n  </body>\\n</html>\\n'"
      ]
     },
     "execution_count": 18,
     "metadata": {},
     "output_type": "execute_result"
    }
   ],
   "source": []
  }
 ],
 "metadata": {
  "kernelspec": {
   "display_name": "Python 3 (ipykernel)",
   "language": "python",
   "name": "python3"
  },
  "language_info": {
   "codemirror_mode": {
    "name": "ipython",
    "version": 3
   },
   "file_extension": ".py",
   "mimetype": "text/x-python",
   "name": "python",
   "nbconvert_exporter": "python",
   "pygments_lexer": "ipython3",
   "version": "3.9.12"
  }
 },
 "nbformat": 4,
 "nbformat_minor": 5
}
