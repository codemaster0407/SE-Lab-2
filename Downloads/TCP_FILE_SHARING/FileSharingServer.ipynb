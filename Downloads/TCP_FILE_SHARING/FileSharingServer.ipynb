{
 "cells": [
  {
   "cell_type": "code",
   "execution_count": 1,
   "id": "86471480",
   "metadata": {},
   "outputs": [],
   "source": [
    "import socket\n",
    "    "
   ]
  },
  {
   "cell_type": "code",
   "execution_count": null,
   "id": "63095c42",
   "metadata": {},
   "outputs": [
    {
     "name": "stdout",
     "output_type": "stream",
     "text": [
      "received_file.txt\n",
      "41\n"
     ]
    }
   ],
   "source": [
    "server = socket.socket(socket.AF_INET, socket.SOCK_STREAM)  #Creating a server socket\n",
    " \n",
    "server.bind((\"127.0.0.1\", 9101))  #Connecting the socket and the server using bind\n",
    "server.listen()   \n",
    "\n",
    "client, addr = server.accept() #Accepting the connection and getting the host and port number.\n",
    "\n",
    "#Receiving the file name type for easy sharing \n",
    "file_name = client.recv(1024).decode() \n",
    "print(file_name)\n",
    "#Receiving the size of the file\n",
    "file_size = client.recv(1024).decode()\n",
    "print(file_size)\n",
    "\n",
    "\n",
    "#Opening the file and receiving the bytes.\n",
    "\n",
    "file = open(file_name, \"wb\")\n",
    "file_bytes = b\"\"\n",
    "\n",
    "\n",
    "while True:\n",
    "    data = client.recv(1024)\n",
    "    if file_bytes[-5:] == b\"<DONE>\":\n",
    "        break\n",
    "    else:\n",
    "        file_bytes+= data\n"
   ]
  },
  {
   "cell_type": "code",
   "execution_count": null,
   "id": "9972a805",
   "metadata": {},
   "outputs": [],
   "source": []
  },
  {
   "cell_type": "code",
   "execution_count": null,
   "id": "c471a1ee",
   "metadata": {},
   "outputs": [],
   "source": []
  }
 ],
 "metadata": {
  "kernelspec": {
   "display_name": "Python 3 (ipykernel)",
   "language": "python",
   "name": "python3"
  },
  "language_info": {
   "codemirror_mode": {
    "name": "ipython",
    "version": 3
   },
   "file_extension": ".py",
   "mimetype": "text/x-python",
   "name": "python",
   "nbconvert_exporter": "python",
   "pygments_lexer": "ipython3",
   "version": "3.9.12"
  },
  "vscode": {
   "interpreter": {
    "hash": "6b76326caa2538dea41f5ab3f62f798dfadd2546472c99c120c811a3cfdc0342"
   }
  }
 },
 "nbformat": 4,
 "nbformat_minor": 5
}
