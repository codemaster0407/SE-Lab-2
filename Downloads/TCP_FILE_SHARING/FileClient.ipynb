{
 "cells": [
  {
   "cell_type": "code",
   "execution_count": 1,
   "id": "6bcf3657",
   "metadata": {},
   "outputs": [],
   "source": [
    "import socket\n",
    "import os"
   ]
  },
  {
   "cell_type": "code",
   "execution_count": 14,
   "id": "b20bada8",
   "metadata": {},
   "outputs": [],
   "source": [
    "#Creating a local socket with local host address and a port number\n",
    "\n",
    "client = socket.socket(socket.AF_INET, socket.SOCK_STREAM)\n",
    "client.connect((\"127.0.0.1\", 9101))\n",
    "\n",
    "\n",
    "#Opening the file location and finding the size to send it to the server\n",
    "file = open(\"C:\\\\Users\\\\schai\\\\Downloads\\\\TCP File Sharing\\\\testingdoc.txt\", \"r\")\n",
    "file_size = os.path.getsize(\"C:\\\\Users\\\\schai\\\\Downloads\\\\TCP File Sharing\\\\testingdoc.txt\")\n",
    "\n",
    "#Sending the extension of the file so that it can receive the data in the same format\n",
    "\n",
    "client.send(\"received_file.txt\".encode())\n",
    "client.send(str(file_size).encode())\n",
    "\n",
    "#Reading the data and sending it to the server.\n",
    "data = file.read().encode()\n",
    "\n",
    "client.sendall(data)\n",
    "client.send(b\"<DONE>\")\n",
    "\n",
    "file.close()\n",
    "client.close()\n",
    "\n"
   ]
  },
  {
   "cell_type": "code",
   "execution_count": null,
   "id": "6a5e7bf3",
   "metadata": {},
   "outputs": [],
   "source": []
  }
 ],
 "metadata": {
  "kernelspec": {
   "display_name": "Python 3 (ipykernel)",
   "language": "python",
   "name": "python3"
  },
  "language_info": {
   "codemirror_mode": {
    "name": "ipython",
    "version": 3
   },
   "file_extension": ".py",
   "mimetype": "text/x-python",
   "name": "python",
   "nbconvert_exporter": "python",
   "pygments_lexer": "ipython3",
   "version": "3.9.12"
  }
 },
 "nbformat": 4,
 "nbformat_minor": 5
}
