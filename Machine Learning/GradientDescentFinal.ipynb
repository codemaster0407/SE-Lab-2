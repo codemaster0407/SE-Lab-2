{
 "cells": [
  {
   "cell_type": "code",
   "execution_count": 1,
   "id": "511775de",
   "metadata": {},
   "outputs": [],
   "source": [
    "def run(x,y):\n",
    "    lr = 0.01\n",
    "    m = [0]*len(x[0])\n",
    "    c = 0\n",
    "    n = 1000\n",
    "    m,c = Gradient_Descent(x,y,lr,n)"
   ]
  },
  {
   "cell_type": "code",
   "execution_count": 2,
   "id": "959658dc",
   "metadata": {},
   "outputs": [],
   "source": [
    "def Gradient_Descent(x,y,lr,n):\n",
    "    m = [0]*len(x[0])\n",
    "    c = 0\n",
    "    \n",
    "    for i in range(n):\n",
    "        m = (step_Gradient(x,y,lr,i,m))\n",
    "        c = step_c(c,i,m)\n",
    "    return m,c"
   ]
  },
  {
   "cell_type": "code",
   "execution_count": null,
   "id": "8d55b609",
   "metadata": {},
   "outputs": [],
   "source": [
    "def step_Gradient(x,y,lr,i,m,c):\n",
    "    N = len(x)\n",
    "    for j in range(len(x)):\n",
    "        x_temp = x[i]\n",
    "        m_temp += (-2/N)*cost(x,y,m,i)\n",
    "        \n",
    "        \n",
    "def cost(x,y,m,i):\n",
    "    n = len(x[i])\n",
    "    cost = 0\n",
    "    for i in range(n):\n",
    "        \n",
    "        cost += \n",
    "        "
   ]
  }
 ],
 "metadata": {
  "kernelspec": {
   "display_name": "Python 3 (ipykernel)",
   "language": "python",
   "name": "python3"
  },
  "language_info": {
   "codemirror_mode": {
    "name": "ipython",
    "version": 3
   },
   "file_extension": ".py",
   "mimetype": "text/x-python",
   "name": "python",
   "nbconvert_exporter": "python",
   "pygments_lexer": "ipython3",
   "version": "3.9.7"
  }
 },
 "nbformat": 4,
 "nbformat_minor": 5
}
