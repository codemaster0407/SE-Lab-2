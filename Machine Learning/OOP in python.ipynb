{
 "cells": [
  {
   "cell_type": "markdown",
   "id": "19c919f9",
   "metadata": {},
   "source": [
    "## Object Oriented Programming"
   ]
  },
  {
   "cell_type": "markdown",
   "id": "795e9285",
   "metadata": {},
   "source": [
    "In OOP, we can create objects and we can define different functions in the object which can be used\n",
    "\n",
    "\n",
    "For example:\n"
   ]
  },
  {
   "cell_type": "code",
   "execution_count": 2,
   "id": "ab25d2b8",
   "metadata": {},
   "outputs": [
    {
     "name": "stdout",
     "output_type": "stream",
     "text": [
      "HELLO\n"
     ]
    }
   ],
   "source": [
    "string = \"hello\"\n",
    "\n",
    "print(string.upper())"
   ]
  },
  {
   "cell_type": "markdown",
   "id": "79fa746b",
   "metadata": {},
   "source": [
    "In the above condition, we can see that '.' and '()' is used for calling the function upper which only intakes a string and outputs the capital characters."
   ]
  },
  {
   "cell_type": "code",
   "execution_count": 16,
   "id": "e5d1309e",
   "metadata": {},
   "outputs": [
    {
     "name": "stdout",
     "output_type": "stream",
     "text": [
      "Pappu\n",
      "12\n"
     ]
    }
   ],
   "source": [
    "# Defining objects\n",
    "\n",
    "\n",
    "class Dog:\n",
    "    \n",
    "    def __init__(self, name, age):\n",
    "        self.name = name\n",
    "        self.age = age\n",
    "        \n",
    "    def get_name(self):\n",
    "        return self.name\n",
    "    \n",
    "    def get_age(self):\n",
    "        return self.age\n",
    "    \n",
    "   \n",
    "    def set_age(self,age):\n",
    "        self.age = age\n",
    "        \n",
    "    \n",
    "d = Dog(\"Pappu\",4)\n",
    "d.set_age(12)\n",
    "\n",
    "print(d.get_name())\n",
    "print(d.get_age())"
   ]
  },
  {
   "cell_type": "code",
   "execution_count": null,
   "id": "8eda1251",
   "metadata": {},
   "outputs": [],
   "source": []
  }
 ],
 "metadata": {
  "kernelspec": {
   "display_name": "Python 3 (ipykernel)",
   "language": "python",
   "name": "python3"
  },
  "language_info": {
   "codemirror_mode": {
    "name": "ipython",
    "version": 3
   },
   "file_extension": ".py",
   "mimetype": "text/x-python",
   "name": "python",
   "nbconvert_exporter": "python",
   "pygments_lexer": "ipython3",
   "version": "3.9.7"
  }
 },
 "nbformat": 4,
 "nbformat_minor": 5
}
