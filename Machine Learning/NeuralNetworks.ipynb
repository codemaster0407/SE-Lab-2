{
 "cells": [
  {
   "cell_type": "code",
   "execution_count": 1,
   "id": "09866220",
   "metadata": {},
   "outputs": [],
   "source": [
    "## FORWARD PROPOGATION "
   ]
  },
  {
   "cell_type": "code",
   "execution_count": 2,
   "id": "0b8d1113",
   "metadata": {},
   "outputs": [],
   "source": [
    "import numpy as np"
   ]
  },
  {
   "cell_type": "code",
   "execution_count": 10,
   "id": "b0586774",
   "metadata": {},
   "outputs": [],
   "source": [
    "x = np.array([[0,0],[0,1], [1,0], [1,1]])\n",
    "y = np.array([[0,0,0,1]]).T"
   ]
  },
  {
   "cell_type": "code",
   "execution_count": 12,
   "id": "52e9f740",
   "metadata": {},
   "outputs": [
    {
     "name": "stdout",
     "output_type": "stream",
     "text": [
      "(4, 2) (4, 1)\n"
     ]
    }
   ],
   "source": [
    "print(x.shape,y.shape)"
   ]
  },
  {
   "cell_type": "code",
   "execution_count": 13,
   "id": "339c21e5",
   "metadata": {},
   "outputs": [],
   "source": [
    "def sigmoid(z):\n",
    "    return 1/(1+np.exp(-z))\n"
   ]
  },
  {
   "cell_type": "code",
   "execution_count": 21,
   "id": "063f3a6c",
   "metadata": {},
   "outputs": [],
   "source": [
    "weights = 2 * np.random.random((2,1)) - 1"
   ]
  },
  {
   "cell_type": "code",
   "execution_count": 22,
   "id": "fc236e62",
   "metadata": {},
   "outputs": [
    {
     "data": {
      "text/plain": [
       "array([[ 0.89106079],\n",
       "       [-0.58595709]])"
      ]
     },
     "execution_count": 22,
     "metadata": {},
     "output_type": "execute_result"
    }
   ],
   "source": [
    "weights"
   ]
  },
  {
   "cell_type": "markdown",
   "id": "d5db73cb",
   "metadata": {},
   "source": [
    "Weights can be negative"
   ]
  },
  {
   "cell_type": "code",
   "execution_count": 25,
   "id": "b7f12ed3",
   "metadata": {},
   "outputs": [],
   "source": [
    "bias = 2*np.random.random((1,1)) - 1"
   ]
  },
  {
   "cell_type": "code",
   "execution_count": 27,
   "id": "876c5bac",
   "metadata": {},
   "outputs": [
    {
     "data": {
      "text/plain": [
       "array([[-0.62006117]])"
      ]
     },
     "execution_count": 27,
     "metadata": {},
     "output_type": "execute_result"
    }
   ],
   "source": [
    "bias"
   ]
  },
  {
   "cell_type": "markdown",
   "id": "23168425",
   "metadata": {},
   "source": [
    "There can be more than one bias"
   ]
  },
  {
   "cell_type": "markdown",
   "id": "05fe147b",
   "metadata": {},
   "source": [
    "## Forward Propogation without hidden layers"
   ]
  },
  {
   "cell_type": "code",
   "execution_count": 28,
   "id": "8b57f441",
   "metadata": {},
   "outputs": [],
   "source": [
    "output0 = x\n",
    "output = sigmoid(np.dot(output0, weights) + bias)"
   ]
  },
  {
   "cell_type": "code",
   "execution_count": 30,
   "id": "abff7699",
   "metadata": {},
   "outputs": [
    {
     "data": {
      "text/plain": [
       "array([[0.34976754],\n",
       "       [0.23040633],\n",
       "       [0.56733829],\n",
       "       [0.42190514]])"
      ]
     },
     "execution_count": 30,
     "metadata": {},
     "output_type": "execute_result"
    }
   ],
   "source": [
    "output"
   ]
  },
  {
   "cell_type": "markdown",
   "id": "f02ba512",
   "metadata": {},
   "source": [
    "## Forward Propogation with hidden layers"
   ]
  },
  {
   "cell_type": "code",
   "execution_count": 40,
   "id": "0656d18c",
   "metadata": {},
   "outputs": [
    {
     "data": {
      "text/plain": [
       "array([[ 0.54769838,  0.16956782],\n",
       "       [-0.83749141,  0.89516927]])"
      ]
     },
     "execution_count": 40,
     "metadata": {},
     "output_type": "execute_result"
    }
   ],
   "source": [
    "wh = 2*np.random.random((2,2))-1\n",
    "bh = 2*np.random.random((1,2)) - 1\n",
    "wh"
   ]
  },
  {
   "cell_type": "code",
   "execution_count": 45,
   "id": "85670d35",
   "metadata": {},
   "outputs": [],
   "source": [
    "wo = 2*np.random.random((2,1)) - 1\n",
    "bo = 2*np.random.random((1,1))-1"
   ]
  },
  {
   "cell_type": "code",
   "execution_count": 48,
   "id": "e27f34a4",
   "metadata": {},
   "outputs": [],
   "source": [
    "output0 = x\n",
    "outputHidden = sigmoid(np.dot(output0,wh) + bh)"
   ]
  },
  {
   "cell_type": "code",
   "execution_count": 50,
   "id": "0811b007",
   "metadata": {},
   "outputs": [
    {
     "data": {
      "text/plain": [
       "array([[0.68363085, 0.59881954],\n",
       "       [0.48326049, 0.78511348],\n",
       "       [0.7888832 , 0.63879011],\n",
       "       [0.61791677, 0.81233983]])"
      ]
     },
     "execution_count": 50,
     "metadata": {},
     "output_type": "execute_result"
    }
   ],
   "source": [
    "outputHidden"
   ]
  },
  {
   "cell_type": "code",
   "execution_count": null,
   "id": "ad8af4a7",
   "metadata": {},
   "outputs": [],
   "source": []
  }
 ],
 "metadata": {
  "kernelspec": {
   "display_name": "Python 3 (ipykernel)",
   "language": "python",
   "name": "python3"
  },
  "language_info": {
   "codemirror_mode": {
    "name": "ipython",
    "version": 3
   },
   "file_extension": ".py",
   "mimetype": "text/x-python",
   "name": "python",
   "nbconvert_exporter": "python",
   "pygments_lexer": "ipython3",
   "version": "3.9.7"
  }
 },
 "nbformat": 4,
 "nbformat_minor": 5
}
