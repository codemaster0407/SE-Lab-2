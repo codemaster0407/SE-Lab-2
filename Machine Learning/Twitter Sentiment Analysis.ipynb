{
 "cells": [
  {
   "cell_type": "code",
   "execution_count": 1,
   "id": "1938b83d",
   "metadata": {},
   "outputs": [],
   "source": [
    "import pandas as pd\n",
    "import numpy as np\n",
    "import matplotlib.pyplot as plt \n"
   ]
  },
  {
   "cell_type": "code",
   "execution_count": 3,
   "id": "4841fd2e",
   "metadata": {},
   "outputs": [],
   "source": [
    "train =pd.read_csv(\"C:\\\\Users\\\\schai\\\\Downloads\\\\0000000000002747_training_twitter_x_y_train.csv\")\n",
    "test =pd.read_csv(\"C:\\\\Users\\\\schai\\\\Downloads\\\\0000000000002747_test_twitter_x_test.csv\")"
   ]
  },
  {
   "cell_type": "code",
   "execution_count": 4,
   "id": "6e77e781",
   "metadata": {},
   "outputs": [
    {
     "data": {
      "text/plain": [
       "tweet_id                  10980\n",
       "airline_sentiment         10980\n",
       "airline                   10980\n",
       "airline_sentiment_gold       31\n",
       "name                      10980\n",
       "negativereason_gold          24\n",
       "retweet_count             10980\n",
       "text                      10980\n",
       "tweet_coord                 776\n",
       "tweet_created             10980\n",
       "tweet_location             7430\n",
       "user_timezone              7403\n",
       "dtype: int64"
      ]
     },
     "execution_count": 4,
     "metadata": {},
     "output_type": "execute_result"
    }
   ],
   "source": [
    "train.count()\n"
   ]
  },
  {
   "cell_type": "markdown",
   "id": "4d7cc641",
   "metadata": {},
   "source": [
    "Dropping the useless columns"
   ]
  },
  {
   "cell_type": "code",
   "execution_count": 5,
   "id": "dc6ed7d1",
   "metadata": {},
   "outputs": [],
   "source": [
    "train.drop('tweet_id', inplace = True, axis = 1)\n",
    "train.drop('airline_sentiment_gold', inplace = True, axis = 1)\n",
    "train.drop('negativereason_gold', inplace = True, axis = 1)\n",
    "train.drop('tweet_coord', inplace = True, axis = 1)\n",
    "train.drop('tweet_created',inplace = True, axis = 1)"
   ]
  },
  {
   "cell_type": "code",
   "execution_count": 6,
   "id": "5bd0d9fa",
   "metadata": {},
   "outputs": [
    {
     "data": {
      "text/plain": [
       "negative    6851\n",
       "neutral     2327\n",
       "positive    1802\n",
       "Name: airline_sentiment, dtype: int64"
      ]
     },
     "execution_count": 6,
     "metadata": {},
     "output_type": "execute_result"
    }
   ],
   "source": [
    "mood_count = train['airline_sentiment'].value_counts()\n",
    "mood_count"
   ]
  },
  {
   "cell_type": "code",
   "execution_count": 7,
   "id": "7215010f",
   "metadata": {},
   "outputs": [
    {
     "data": {
      "text/plain": [
       "United            2928\n",
       "US Airways        2152\n",
       "American          2078\n",
       "Southwest         1817\n",
       "Delta             1639\n",
       "Virgin America     366\n",
       "Name: airline, dtype: int64"
      ]
     },
     "execution_count": 7,
     "metadata": {},
     "output_type": "execute_result"
    }
   ],
   "source": [
    "train['airline'].value_counts()"
   ]
  },
  {
   "cell_type": "code",
   "execution_count": 8,
   "id": "f3d8ad0b",
   "metadata": {},
   "outputs": [
    {
     "data": {
      "text/html": [
       "<div>\n",
       "<style scoped>\n",
       "    .dataframe tbody tr th:only-of-type {\n",
       "        vertical-align: middle;\n",
       "    }\n",
       "\n",
       "    .dataframe tbody tr th {\n",
       "        vertical-align: top;\n",
       "    }\n",
       "\n",
       "    .dataframe thead th {\n",
       "        text-align: right;\n",
       "    }\n",
       "</style>\n",
       "<table border=\"1\" class=\"dataframe\">\n",
       "  <thead>\n",
       "    <tr style=\"text-align: right;\">\n",
       "      <th></th>\n",
       "      <th>airline_sentiment</th>\n",
       "      <th>airline</th>\n",
       "      <th>name</th>\n",
       "      <th>retweet_count</th>\n",
       "      <th>text</th>\n",
       "      <th>tweet_location</th>\n",
       "      <th>user_timezone</th>\n",
       "    </tr>\n",
       "  </thead>\n",
       "  <tbody>\n",
       "    <tr>\n",
       "      <th>0</th>\n",
       "      <td>0</td>\n",
       "      <td>Southwest</td>\n",
       "      <td>ColeyGirouard</td>\n",
       "      <td>0</td>\n",
       "      <td>@SouthwestAir I am scheduled for the morning, ...</td>\n",
       "      <td>Washington D.C.</td>\n",
       "      <td>Atlantic Time (Canada)</td>\n",
       "    </tr>\n",
       "    <tr>\n",
       "      <th>1</th>\n",
       "      <td>2</td>\n",
       "      <td>Southwest</td>\n",
       "      <td>WalterFaddoul</td>\n",
       "      <td>0</td>\n",
       "      <td>@SouthwestAir seeing your workers time in and ...</td>\n",
       "      <td>Indianapolis, Indiana; USA</td>\n",
       "      <td>Central Time (US &amp; Canada)</td>\n",
       "    </tr>\n",
       "  </tbody>\n",
       "</table>\n",
       "</div>"
      ],
      "text/plain": [
       "   airline_sentiment    airline           name  retweet_count  \\\n",
       "0                  0  Southwest  ColeyGirouard              0   \n",
       "1                  2  Southwest  WalterFaddoul              0   \n",
       "\n",
       "                                                text  \\\n",
       "0  @SouthwestAir I am scheduled for the morning, ...   \n",
       "1  @SouthwestAir seeing your workers time in and ...   \n",
       "\n",
       "               tweet_location               user_timezone  \n",
       "0             Washington D.C.      Atlantic Time (Canada)  \n",
       "1  Indianapolis, Indiana; USA  Central Time (US & Canada)  "
      ]
     },
     "execution_count": 8,
     "metadata": {},
     "output_type": "execute_result"
    }
   ],
   "source": [
    "from sklearn.preprocessing import LabelEncoder\n",
    "le = LabelEncoder()\n",
    "train['airline_sentiment'] = le.fit_transform(train['airline_sentiment'])\n",
    "train.head(2)"
   ]
  },
  {
   "cell_type": "code",
   "execution_count": 9,
   "id": "93c7a6ca",
   "metadata": {},
   "outputs": [],
   "source": [
    "import re\n",
    "import nltk\n",
    "from nltk.corpus import stopwords"
   ]
  },
  {
   "cell_type": "code",
   "execution_count": 10,
   "id": "c5cd6155",
   "metadata": {},
   "outputs": [],
   "source": [
    "def tweet_to_words(raw_tweet):\n",
    "    letters_only = re.sub(\"[^a-zA-Z]\", \" \",raw_tweet) \n",
    "    words = letters_only.lower().split()                             \n",
    "    stops = set(stopwords.words(\"english\"))                  \n",
    "    meaningful_words = [w for w in words if not w in stops] \n",
    "    return( \" \".join( meaningful_words ))"
   ]
  },
  {
   "cell_type": "code",
   "execution_count": 11,
   "id": "73868ef1",
   "metadata": {},
   "outputs": [],
   "source": [
    "train['clean_tweet'] = train['text'].apply(lambda x: tweet_to_words(x))\n",
    "\n",
    "test['clean_tweet'] = test['text'].apply(lambda x: tweet_to_words(x))"
   ]
  },
  {
   "cell_type": "code",
   "execution_count": 12,
   "id": "566b8f75",
   "metadata": {},
   "outputs": [],
   "source": [
    "train_clean_tweet=[]\n",
    "for tweet in train['clean_tweet']:\n",
    "    train_clean_tweet.append(tweet)\n",
    "    \n",
    "test_clean_tweet=[]\n",
    "for tweet in test['clean_tweet']:\n",
    "    test_clean_tweet.append(tweet)"
   ]
  },
  {
   "cell_type": "code",
   "execution_count": 13,
   "id": "8f5d58c7",
   "metadata": {},
   "outputs": [],
   "source": [
    "from sklearn.feature_extraction.text import CountVectorizer\n",
    "v = CountVectorizer(analyzer = \"word\")\n",
    "train_features= v.fit_transform(train_clean_tweet)\n",
    "test_features= v.transform(test_clean_tweet)"
   ]
  },
  {
   "cell_type": "code",
   "execution_count": 14,
   "id": "72860770",
   "metadata": {},
   "outputs": [
    {
     "data": {
      "text/plain": [
       "<10980x11471 sparse matrix of type '<class 'numpy.int64'>'\n",
       "\twith 107004 stored elements in Compressed Sparse Row format>"
      ]
     },
     "execution_count": 14,
     "metadata": {},
     "output_type": "execute_result"
    }
   ],
   "source": [
    "train_features"
   ]
  },
  {
   "cell_type": "code",
   "execution_count": 15,
   "id": "2a743264",
   "metadata": {},
   "outputs": [],
   "source": [
    "from sklearn.naive_bayes import MultinomialNB"
   ]
  },
  {
   "cell_type": "code",
   "execution_count": 16,
   "id": "063910bd",
   "metadata": {},
   "outputs": [],
   "source": [
    "nb = MultinomialNB()"
   ]
  },
  {
   "cell_type": "code",
   "execution_count": 17,
   "id": "e4bb7036",
   "metadata": {},
   "outputs": [
    {
     "name": "stdout",
     "output_type": "stream",
     "text": [
      "0.8437158469945355\n"
     ]
    }
   ],
   "source": [
    "nb.fit(train_features,train['airline_sentiment'])\n",
    "from sklearn.metrics import accuracy_score, confusion_matrix\n",
    "accuracy = accuracy_score(nb.predict(train_features),train['airline_sentiment'])\n",
    "print(accuracy)"
   ]
  },
  {
   "cell_type": "code",
   "execution_count": 18,
   "id": "0a138d3c",
   "metadata": {},
   "outputs": [
    {
     "data": {
      "text/plain": [
       "<3660x11471 sparse matrix of type '<class 'numpy.int64'>'\n",
       "\twith 33563 stored elements in Compressed Sparse Row format>"
      ]
     },
     "execution_count": 18,
     "metadata": {},
     "output_type": "execute_result"
    }
   ],
   "source": [
    "test_features\n"
   ]
  },
  {
   "cell_type": "code",
   "execution_count": 21,
   "id": "e32b9128",
   "metadata": {},
   "outputs": [
    {
     "name": "stdout",
     "output_type": "stream",
     "text": [
      "['negative' 'negative' 'negative' ... 'neutral' 'positive' 'neutral']\n"
     ]
    }
   ],
   "source": [
    "import numpy as np\n",
    "test_pred = nb.predict(test_features)\n",
    "test_pred = le.inverse_transform(test_pred)\n",
    "print(test_pred)\n",
    "np.savetxt(\"C:\\\\Users\\\\schai\\\\Downloads\\\\Twitterfinal.csv\",test_pred,fmt='%s')"
   ]
  },
  {
   "cell_type": "code",
   "execution_count": null,
   "id": "54547248",
   "metadata": {},
   "outputs": [],
   "source": []
  }
 ],
 "metadata": {
  "kernelspec": {
   "display_name": "Python 3 (ipykernel)",
   "language": "python",
   "name": "python3"
  },
  "language_info": {
   "codemirror_mode": {
    "name": "ipython",
    "version": 3
   },
   "file_extension": ".py",
   "mimetype": "text/x-python",
   "name": "python",
   "nbconvert_exporter": "python",
   "pygments_lexer": "ipython3",
   "version": "3.9.7"
  }
 },
 "nbformat": 4,
 "nbformat_minor": 5
}
