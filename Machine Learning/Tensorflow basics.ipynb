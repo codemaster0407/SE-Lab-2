{
 "cells": [
  {
   "cell_type": "code",
   "execution_count": 1,
   "id": "3b9aaf24",
   "metadata": {},
   "outputs": [],
   "source": [
    "import tensorflow as tf"
   ]
  },
  {
   "cell_type": "code",
   "execution_count": 2,
   "id": "fbac2e38",
   "metadata": {},
   "outputs": [
    {
     "name": "stdout",
     "output_type": "stream",
     "text": [
      "tf.Tensor(5, shape=(), dtype=int32)\n"
     ]
    }
   ],
   "source": [
    "a = tf.constant(5)\n",
    "print(a)"
   ]
  },
  {
   "cell_type": "code",
   "execution_count": 3,
   "id": "a7a805a8",
   "metadata": {},
   "outputs": [],
   "source": [
    "b = tf.constant(10)\n",
    "c = tf.add(a,b)"
   ]
  },
  {
   "cell_type": "code",
   "execution_count": 5,
   "id": "685d7f91",
   "metadata": {},
   "outputs": [
    {
     "name": "stdout",
     "output_type": "stream",
     "text": [
      "tf.Tensor(15, shape=(), dtype=int32)\n"
     ]
    }
   ],
   "source": [
    "print(c)"
   ]
  },
  {
   "cell_type": "code",
   "execution_count": 7,
   "id": "3979c558",
   "metadata": {},
   "outputs": [
    {
     "name": "stdout",
     "output_type": "stream",
     "text": [
      "<tf.Variable 'Variable:0' shape=() dtype=int32, numpy=20>\n"
     ]
    }
   ],
   "source": [
    "#Variable creation\n",
    "\n",
    "# 0th variable created -> \"Variable :0\"\n",
    "var1 = tf.Variable(20)\n",
    "print(var1)"
   ]
  },
  {
   "cell_type": "code",
   "execution_count": 8,
   "id": "f274d446",
   "metadata": {},
   "outputs": [],
   "source": [
    "#We can create multi dimensional variable"
   ]
  },
  {
   "cell_type": "code",
   "execution_count": 9,
   "id": "c0092674",
   "metadata": {},
   "outputs": [
    {
     "name": "stdout",
     "output_type": "stream",
     "text": [
      "tf.Tensor(\n",
      "[[19 22]\n",
      " [43 50]], shape=(2, 2), dtype=int32)\n"
     ]
    }
   ],
   "source": [
    "var2 = tf.Variable([[1,2], [3,4]])\n",
    "var3 = tf.Variable([[5,6], [7,8]])\n",
    "\n",
    "print(tf.matmul(var2,var3))"
   ]
  },
  {
   "cell_type": "code",
   "execution_count": null,
   "id": "d69fc723",
   "metadata": {},
   "outputs": [],
   "source": []
  }
 ],
 "metadata": {
  "kernelspec": {
   "display_name": "Python 3 (ipykernel)",
   "language": "python",
   "name": "python3"
  },
  "language_info": {
   "codemirror_mode": {
    "name": "ipython",
    "version": 3
   },
   "file_extension": ".py",
   "mimetype": "text/x-python",
   "name": "python",
   "nbconvert_exporter": "python",
   "pygments_lexer": "ipython3",
   "version": "3.9.12"
  }
 },
 "nbformat": 4,
 "nbformat_minor": 5
}
