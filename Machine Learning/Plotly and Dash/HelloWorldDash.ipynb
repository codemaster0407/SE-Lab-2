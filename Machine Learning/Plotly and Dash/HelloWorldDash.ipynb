{
 "cells": [
  {
   "cell_type": "code",
   "execution_count": 17,
   "id": "69e87d3c",
   "metadata": {},
   "outputs": [],
   "source": [
    "from dash import Dash, dcc\n",
    "import dash_bootstrap_components as dbc\n",
    "from dash.dependencies import Input, Output\n",
    "import plotly.express as px"
   ]
  },
  {
   "cell_type": "code",
   "execution_count": 2,
   "id": "120952b6",
   "metadata": {},
   "outputs": [],
   "source": [
    "app = Dash(__name__, external_stylesheets = [dbc.themes.BOOTSTRAP])\n",
    "mytext = dcc.Markdown(children = \"#Hello World - let's build web apps in python\")\n",
    "\n",
    "app.layout = dbc.Container([mytext])"
   ]
  },
  {
   "cell_type": "code",
   "execution_count": 3,
   "id": "4ffdc899",
   "metadata": {},
   "outputs": [
    {
     "name": "stdout",
     "output_type": "stream",
     "text": [
      "Dash is running on http://127.0.0.1:8851/\n",
      "\n",
      " * Serving Flask app \"__main__\" (lazy loading)\n",
      " * Environment: production\n",
      "\u001b[31m   WARNING: This is a development server. Do not use it in a production deployment.\u001b[0m\n",
      "\u001b[2m   Use a production WSGI server instead.\u001b[0m\n",
      " * Debug mode: off\n"
     ]
    },
    {
     "name": "stderr",
     "output_type": "stream",
     "text": [
      " * Running on http://127.0.0.1:8851/ (Press CTRL+C to quit)\n"
     ]
    }
   ],
   "source": [
    "app.run_server(port = 8851)"
   ]
  },
  {
   "cell_type": "code",
   "execution_count": 29,
   "id": "49670dad",
   "metadata": {},
   "outputs": [],
   "source": [
    "#interactive application"
   ]
  },
  {
   "cell_type": "code",
   "execution_count": 11,
   "id": "dcef574d",
   "metadata": {},
   "outputs": [],
   "source": [
    "# import plotly.express as px\n",
    "\n",
    "# df = px.data.medals_long()\n",
    "\n",
    "# app = Dash(__name__, external_stylesheets=[dbc.themes.VAPOR])\n",
    "# mytitle = dcc.Markdown(children = \"App that analyzes Olympic Medals\")\n",
    "# myGraph = dcc.Graph(figure = {})\n"
   ]
  },
  {
   "cell_type": "code",
   "execution_count": 12,
   "id": "449bde98",
   "metadata": {},
   "outputs": [
    {
     "name": "stdout",
     "output_type": "stream",
     "text": [
      "Dash is running on http://127.0.0.1:8852/\n",
      "\n",
      "Dash is running on http://127.0.0.1:8852/\n",
      "\n",
      "Dash is running on http://127.0.0.1:8852/\n",
      "\n",
      "Dash is running on http://127.0.0.1:8852/\n",
      "\n",
      "Dash is running on http://127.0.0.1:8852/\n",
      "\n",
      "Dash is running on http://127.0.0.1:8852/\n",
      "\n",
      "Dash is running on http://127.0.0.1:8852/\n",
      "\n",
      "Dash is running on http://127.0.0.1:8852/\n",
      "\n",
      "Dash is running on http://127.0.0.1:8852/\n",
      "\n",
      " * Serving Flask app \"__main__\" (lazy loading)\n",
      " * Environment: production\n",
      "\u001b[31m   WARNING: This is a development server. Do not use it in a production deployment.\u001b[0m\n",
      "\u001b[2m   Use a production WSGI server instead.\u001b[0m\n",
      " * Debug mode: off\n"
     ]
    },
    {
     "name": "stderr",
     "output_type": "stream",
     "text": [
      " * Running on http://127.0.0.1:8852/ (Press CTRL+C to quit)\n"
     ]
    }
   ],
   "source": [
    "app = Dash(__name__, external_stylesheets=[dbc.themes.SOLAR])\n",
    "myText = dcc.Markdown(children = '')\n",
    "myInput = dbc.Input(value = \"Hello World - lets build apps in python\")\n",
    "\n",
    "app.layout = dbc.Container([myText,myInput])\n",
    "\n",
    "\n",
    "@app.callback(\n",
    "    Output(mytext, component_property = 'children'),\n",
    "    Input(myInput, component_property= 'myInput')\n",
    ")\n",
    "\n",
    "def update_title(value):\n",
    "    return user_input\n",
    "\n",
    "app.run_server(port = 8852)"
   ]
  },
  {
   "cell_type": "code",
   "execution_count": 26,
   "id": "97c7bf64",
   "metadata": {},
   "outputs": [
    {
     "name": "stdout",
     "output_type": "stream",
     "text": [
      "Dash is running on http://127.0.0.1:9922/\n",
      "\n",
      "Dash is running on http://127.0.0.1:9922/\n",
      "\n",
      "Dash is running on http://127.0.0.1:9922/\n",
      "\n",
      "Dash is running on http://127.0.0.1:9922/\n",
      "\n",
      "Dash is running on http://127.0.0.1:9922/\n",
      "\n",
      "Dash is running on http://127.0.0.1:9922/\n",
      "\n",
      "Dash is running on http://127.0.0.1:9922/\n",
      "\n",
      "Dash is running on http://127.0.0.1:9922/\n",
      "\n",
      "Dash is running on http://127.0.0.1:9922/\n",
      "\n",
      "Dash is running on http://127.0.0.1:9922/\n",
      "\n",
      "Dash is running on http://127.0.0.1:9922/\n",
      "\n",
      "Dash is running on http://127.0.0.1:9922/\n",
      "\n",
      "Dash is running on http://127.0.0.1:9922/\n",
      "\n",
      " * Serving Flask app \"__main__\" (lazy loading)\n",
      " * Environment: production\n",
      "\u001b[31m   WARNING: This is a development server. Do not use it in a production deployment.\u001b[0m\n",
      "\u001b[2m   Use a production WSGI server instead.\u001b[0m\n",
      " * Debug mode: off\n"
     ]
    },
    {
     "name": "stderr",
     "output_type": "stream",
     "text": [
      " * Running on http://127.0.0.1:9922/ (Press CTRL+C to quit)\n",
      "127.0.0.1 - - [18/Nov/2022 20:54:35] \"GET / HTTP/1.1\" 200 -\n",
      "127.0.0.1 - - [18/Nov/2022 20:54:35] \"GET /_dash-layout HTTP/1.1\" 200 -\n",
      "127.0.0.1 - - [18/Nov/2022 20:54:35] \"GET /_dash-dependencies HTTP/1.1\" 200 -\n",
      "127.0.0.1 - - [18/Nov/2022 20:54:35] \"GET /_dash-component-suites/dash/dcc/async-markdown.js HTTP/1.1\" 200 -\n",
      "127.0.0.1 - - [18/Nov/2022 20:54:35] \"GET /_dash-component-suites/dash/dcc/async-graph.js HTTP/1.1\" 200 -\n",
      "127.0.0.1 - - [18/Nov/2022 20:54:35] \"GET /_dash-component-suites/dash/dcc/async-dropdown.js HTTP/1.1\" 200 -\n",
      "127.0.0.1 - - [18/Nov/2022 20:54:35] \"GET /_dash-component-suites/dash/dcc/async-plotlyjs.js HTTP/1.1\" 200 -\n",
      "127.0.0.1 - - [18/Nov/2022 20:54:35] \"GET /_favicon.ico?v=2.7.0 HTTP/1.1\" 200 -\n",
      "127.0.0.1 - - [18/Nov/2022 20:54:35] \"POST /_dash-update-component HTTP/1.1\" 200 -\n",
      "127.0.0.1 - - [18/Nov/2022 20:54:35] \"GET /_dash-component-suites/dash/dcc/async-highlight.js HTTP/1.1\" 200 -\n",
      "127.0.0.1 - - [18/Nov/2022 20:54:37] \"POST /_dash-update-component HTTP/1.1\" 200 -\n",
      "127.0.0.1 - - [18/Nov/2022 20:54:38] \"POST /_dash-update-component HTTP/1.1\" 200 -\n"
     ]
    }
   ],
   "source": [
    "df = px.data.medals_long()\n",
    "app = Dash(__name__, external_stylesheets=[dbc.themes.GRID])\n",
    "myTitle = dcc.Markdown(children = \"App that analyzes Olympic Medals\")\n",
    "\n",
    "myGraph = dcc.Graph(figure = {})\n",
    "\n",
    "dropdown = dcc.Dropdown(options = ['Bar Plot', 'Scatter Plot'],\n",
    "                       value = 'Bar Plot',\n",
    "                       clearable = False)\n",
    "\n",
    "app.layout = dbc.Container([myTitle, myGraph, dropdown])\n",
    "\n",
    "@app.callback(\n",
    "    Output(myGraph,component_property='figure'),\n",
    "    Input(dropdown, component_property='value')\n",
    ")\n",
    "\n",
    "def update_graph(user_input):\n",
    "    if user_input == 'Bar Plot':\n",
    "        fig = px.bar(data_frame= df, x = \"nation\", y = \"count\", color = \"medal\")\n",
    "    elif user_input == 'Scatter Plot':\n",
    "        fig = px.scatter(data_frame = df, x = \"nation\", y=\"count\", color = \"medal\")\n",
    "\n",
    "    return fig\n",
    "app.run_server(port = 9922)\n",
    "\n"
   ]
  },
  {
   "cell_type": "code",
   "execution_count": null,
   "id": "2388c320",
   "metadata": {},
   "outputs": [],
   "source": []
  }
 ],
 "metadata": {
  "kernelspec": {
   "display_name": "Python 3 (ipykernel)",
   "language": "python",
   "name": "python3"
  },
  "language_info": {
   "codemirror_mode": {
    "name": "ipython",
    "version": 3
   },
   "file_extension": ".py",
   "mimetype": "text/x-python",
   "name": "python",
   "nbconvert_exporter": "python",
   "pygments_lexer": "ipython3",
   "version": "3.9.12"
  }
 },
 "nbformat": 4,
 "nbformat_minor": 5
}
